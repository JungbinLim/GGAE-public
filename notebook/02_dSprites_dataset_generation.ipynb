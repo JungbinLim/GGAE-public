{
 "cells": [
  {
   "cell_type": "markdown",
   "id": "4ed0fc29",
   "metadata": {},
   "source": [
    "Run this file to download dSprites dataset under ./dataset/dSprites/ directory."
   ]
  },
  {
   "cell_type": "code",
   "execution_count": null,
   "id": "7869e840",
   "metadata": {},
   "outputs": [],
   "source": [
    "import os\n",
    "import urllib.request\n",
    "\n",
    "dataset_dir = '../dataset/dSprites'\n",
    "os.makedirs(dataset_dir, exist_ok=True)\n",
    "\n",
    "# Download the file and place it under ./dataset/dSprites\n",
    "url = 'https://github.com/google-deepmind/dsprites-dataset/raw/master/dsprites_ndarray_co1sh3sc6or40x32y32_64x64.npz'\n",
    "file_path = os.path.join(dataset_dir, 'dsprites_ndarray_co1sh3sc6or40x32y32_64x64.npz')\n",
    "\n",
    "if not os.path.exists(file_path):\n",
    "    print(f'Downloading {url}...')\n",
    "    urllib.request.urlretrieve(url, file_path)\n",
    "    print(f'File downloaded and saved to {file_path}')\n",
    "else:\n",
    "    print(f'File already exists at {file_path}')\n"
   ]
  }
 ],
 "metadata": {
  "kernelspec": {
   "display_name": "Python 3.7.13 ('DLIsoLR')",
   "language": "python",
   "name": "python3"
  },
  "language_info": {
   "codemirror_mode": {
    "name": "ipython",
    "version": 3
   },
   "file_extension": ".py",
   "mimetype": "text/x-python",
   "name": "python",
   "nbconvert_exporter": "python",
   "pygments_lexer": "ipython3",
   "version": "3.7.12"
  },
  "vscode": {
   "interpreter": {
    "hash": "195f488e64f8a6bf3cb586da90b59a0fa46342450183d7ce5944e5e7f2dcd978"
   }
  }
 },
 "nbformat": 4,
 "nbformat_minor": 5
}
