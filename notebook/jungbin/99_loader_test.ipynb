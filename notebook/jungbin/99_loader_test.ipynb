{
 "cells": [
  {
   "cell_type": "code",
   "execution_count": 1,
   "id": "d3e490f4-c98b-4c60-88f3-339a2f38136a",
   "metadata": {},
   "outputs": [
    {
     "name": "stderr",
     "output_type": "stream",
     "text": [
      "/home/jblim/anaconda3/envs/GGAE/lib/python3.8/site-packages/tqdm/auto.py:21: TqdmWarning: IProgress not found. Please update jupyter and ipywidgets. See https://ipywidgets.readthedocs.io/en/stable/user_install.html\n",
      "  from .autonotebook import tqdm as notebook_tqdm\n"
     ]
    }
   ],
   "source": [
    "import torch\n",
    "import numpy as np\n",
    "import pandas as pd\n",
    "import time, os, sys\n",
    "from tqdm.auto import tqdm, trange\n",
    "\n",
    "import random\n",
    "from tensorboardX import SummaryWriter\n",
    "import argparse\n",
    "from omegaconf import OmegaConf\n",
    "from datetime import datetime\n",
    "from functools import partial\n",
    "from torchvision import transforms\n",
    "\n",
    "import plotly.graph_objects as go\n",
    "import plotly.io as pio\n",
    "import plotly.express as px\n",
    "plotly_layout = dict(margin=dict(l=20, r=20, t=20, b=20))"
   ]
  },
  {
   "cell_type": "code",
   "execution_count": 2,
   "id": "fec47165-1c08-44f5-9159-c72c20f3bafb",
   "metadata": {},
   "outputs": [],
   "source": [
    "sys.path.append('../..')\n",
    "from loader import get_dataloader\n",
    "from torchvision import transforms"
   ]
  },
  {
   "cell_type": "code",
   "execution_count": 3,
   "id": "ac6f93d1-cfec-40eb-bb36-9521f0aa8e79",
   "metadata": {},
   "outputs": [
    {
     "name": "stdout",
     "output_type": "stream",
     "text": [
      "../../dataset/TranslatingMNIST/TranslatingMNIST-digit=3.pkl\n"
     ]
    },
    {
     "name": "stderr",
     "output_type": "stream",
     "text": [
      "/PublicSSD/jblim/GGAE-public/notebook/jungbin/../../loader/MNIST_dataset.py:345: FutureWarning: You are using `torch.load` with `weights_only=False` (the current default value), which uses the default pickle module implicitly. It is possible to construct malicious pickle data which will execute arbitrary code during unpickling (See https://github.com/pytorch/pytorch/blob/main/SECURITY.md#untrusted-models for more details). In a future release, the default value for `weights_only` will be flipped to `True`. This limits the functions that could be executed during unpickling. Arbitrary objects will no longer be allowed to be loaded via this mode unless they are explicitly allowlisted by the user via `torch.serialization.add_safe_globals`. We recommend you start setting `weights_only=True` for any use case where you don't have full control of the loaded file. Please open an issue on GitHub for any issues related to this experimental feature.\n",
      "  data_dict = torch.load(os.path.join(root, 'TranslatingMNIST', file_name))\n"
     ]
    },
    {
     "name": "stdout",
     "output_type": "stream",
     "text": [
      "fraction_data: None\n",
      "TranslatingMNIST split training | torch.Size([10928, 1, 56, 56, 10])\n",
      "no global_dist is precomputed\n"
     ]
    }
   ],
   "source": [
    "data_cfg = {\n",
    "    'dataset': 'TranslatingMNIST',\n",
    "    'root': '../../dataset',\n",
    "    'batch_size': 10,\n",
    "    'n_workers': 4,\n",
    "    'split': 'training',\n",
    "    'shuffle': True,\n",
    "    'digits': [3],\n",
    "    'time_horizon': 10\n",
    "}\n",
    "dl = get_dataloader(data_cfg)\n",
    "\n",
    "data = dl.dataset.data\n",
    "targets = dl.dataset.targets"
   ]
  },
  {
   "cell_type": "code",
   "execution_count": 4,
   "id": "0de843a0",
   "metadata": {},
   "outputs": [
    {
     "data": {
      "text/plain": [
       "torch.Size([10928, 1, 56, 56, 10])"
      ]
     },
     "execution_count": 4,
     "metadata": {},
     "output_type": "execute_result"
    }
   ],
   "source": [
    "dl.dataset.data.shape"
   ]
  },
  {
   "cell_type": "code",
   "execution_count": 5,
   "id": "356239be",
   "metadata": {},
   "outputs": [
    {
     "name": "stdout",
     "output_type": "stream",
     "text": [
      "torch.Size([10, 1, 56, 56, 10])\n",
      "torch.Size([10])\n",
      "torch.Size([10])\n"
     ]
    }
   ],
   "source": [
    "for i in dl:\n",
    "    for j in i:\n",
    "        print(j.shape)\n",
    "    break"
   ]
  }
 ],
 "metadata": {
  "kernelspec": {
   "display_name": "Python 3.7.13 ('DLIsoLR')",
   "language": "python",
   "name": "python3"
  },
  "language_info": {
   "codemirror_mode": {
    "name": "ipython",
    "version": 3
   },
   "file_extension": ".py",
   "mimetype": "text/x-python",
   "name": "python",
   "nbconvert_exporter": "python",
   "pygments_lexer": "ipython3",
   "version": "3.8.19"
  },
  "vscode": {
   "interpreter": {
    "hash": "195f488e64f8a6bf3cb586da90b59a0fa46342450183d7ce5944e5e7f2dcd978"
   }
  }
 },
 "nbformat": 4,
 "nbformat_minor": 5
}
