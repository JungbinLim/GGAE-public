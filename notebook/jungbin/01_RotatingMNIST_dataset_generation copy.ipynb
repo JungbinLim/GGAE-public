{
 "cells": [
  {
   "cell_type": "code",
   "execution_count": null,
   "id": "d3e490f4-c98b-4c60-88f3-339a2f38136a",
   "metadata": {},
   "outputs": [],
   "source": [
    "import torch\n",
    "import numpy as np\n",
    "import pandas as pd\n",
    "import time, os, sys\n",
    "from tqdm.auto import tqdm, trange\n",
    "\n",
    "import random\n",
    "from tensorboardX import SummaryWriter\n",
    "import argparse\n",
    "from omegaconf import OmegaConf\n",
    "from datetime import datetime\n",
    "from functools import partial\n",
    "from torchvision import transforms\n",
    "\n",
    "import plotly.graph_objects as go\n",
    "import plotly.io as pio\n",
    "import plotly.express as px\n",
    "plotly_layout = dict(margin=dict(l=20, r=20, t=20, b=20))"
   ]
  },
  {
   "cell_type": "code",
   "execution_count": null,
   "id": "fec47165-1c08-44f5-9159-c72c20f3bafb",
   "metadata": {},
   "outputs": [],
   "source": [
    "sys.path.append('../..')\n",
    "from loader import get_dataloader\n",
    "from torchvision import transforms"
   ]
  },
  {
   "cell_type": "code",
   "execution_count": null,
   "id": "ac6f93d1-cfec-40eb-bb36-9521f0aa8e79",
   "metadata": {},
   "outputs": [],
   "source": [
    "data_cfg = {\n",
    "    'dataset': 'MNIST',\n",
    "    'root': '../../dataset',\n",
    "    'batch_size': 100,\n",
    "    'n_workers': 4,\n",
    "    'split': 'training',\n",
    "    'shuffle': True,\n",
    "    'digits': [3],\n",
    "}\n",
    "\n",
    "dl = get_dataloader(data_cfg)"
   ]
  },
  {
   "cell_type": "code",
   "execution_count": null,
   "id": "f34a6b03-236f-4fe3-96e7-868b394ce3bb",
   "metadata": {},
   "outputs": [],
   "source": [
    "data = dl.dataset.data\n",
    "targets = dl.dataset.targets"
   ]
  },
  {
   "cell_type": "code",
   "execution_count": null,
   "id": "9d1810f7-787f-4fe4-a0bb-b64d99fab02c",
   "metadata": {},
   "outputs": [],
   "source": [
    "EPISODES_PER_IMAGE = 5\n",
    "TIME_HORIZON = 36\n",
    "ANGLE_STEP = 10\n",
    "\n",
    "data = data.repeat_interleave(EPISODES_PER_IMAGE, 0).unsqueeze(-1).repeat_interleave(TIME_HORIZON, -1)\n",
    "targets = targets.repeat_interleave(EPISODES_PER_IMAGE, 0)"
   ]
  },
  {
   "cell_type": "code",
   "execution_count": null,
   "id": "456d4ccb-6559-4304-9ff3-85bc18acbd14",
   "metadata": {},
   "outputs": [],
   "source": [
    "for i_idx in trange(data.shape[0]):\n",
    "    theta_init = torch.rand(()) * 360\n",
    "    for j_idx in range(data.shape[-1]):\n",
    "        theta = theta_init.item() + ANGLE_STEP * j_idx\n",
    "        data[i_idx, :, :, :, j_idx] = transforms.functional.affine(img=data[i_idx, :, :, :, j_idx], angle=theta, translate=[0, 0], scale=1., shear=0)"
   ]
  },
  {
   "cell_type": "code",
   "execution_count": null,
   "id": "f12a09c9-c572-4db1-9f24-d10793c10cff",
   "metadata": {},
   "outputs": [],
   "source": [
    "def draw_images(X):\n",
    "    \n",
    "    fig=go.Figure(go.Image(z=X[:, :, :, 0].permute(1, 2, 0).repeat(1, 1, 3)*255))\n",
    "\n",
    "    fig.layout.updatemenus = [\n",
    "        {\n",
    "            \"buttons\": [\n",
    "                {\n",
    "                    \"args\": [None, {\"frame\": {\"duration\": 100, \"redraw\": True},\n",
    "                                    \"fromcurrent\": True, \n",
    "                                    \"transition\": {\"duration\": 1, \"easing\": \"quadratic-in-out\"}}],\n",
    "                    \"label\": \"Play\",\n",
    "                    \"method\": \"animate\"\n",
    "                },\n",
    "                {\n",
    "                    \"args\": [[None], {\"frame\": {\"duration\": 0, \"redraw\": False},\n",
    "                                    \"mode\": \"immediate\",\n",
    "                                    \"transition\": {\"duration\": 0}}],\n",
    "                    \"label\": \"Pause\",\n",
    "                    \"method\": \"animate\"\n",
    "                }\n",
    "            ],\n",
    "            \"direction\": \"down\",\n",
    "            \"pad\": {\"r\": 10, \"t\": 30},\n",
    "            \"showactive\": False,\n",
    "            \"type\": \"buttons\",\n",
    "            \"x\": 0.1,\n",
    "            \"xanchor\": \"right\",\n",
    "            \"y\": 0,\n",
    "            \"yanchor\": \"top\"\n",
    "        }\n",
    "    ]\n",
    "\n",
    "    sliders_dict = {\n",
    "        \"active\": 0,\n",
    "        \"yanchor\": \"top\",\n",
    "        \"xanchor\": \"left\",\n",
    "        \"currentvalue\": {\n",
    "            \"font\": {\"size\": 20},\n",
    "            \"prefix\": \"Frame:\",\n",
    "            \"visible\": True,\n",
    "            \"xanchor\": \"left\"\n",
    "        },\n",
    "        \"transition\": {\"duration\": 1, \"easing\": \"cubic-in-out\"},\n",
    "        \"pad\": {\"b\": 10, \"t\": 10},\n",
    "        \"len\": 0.9,\n",
    "        \"x\": 0.1,\n",
    "        \"y\": 0,\n",
    "        \"steps\": []\n",
    "    }\n",
    "\n",
    "    frames = [None]*TIME_HORIZON\n",
    "\n",
    "    frame_idx = 0\n",
    "    for i in range(TIME_HORIZON):\n",
    "        frames[frame_idx] = go.Frame(data=[go.Image(z=X[:, :, :, i].permute(1, 2, 0).repeat(1, 1, 3)*255)], name=str(i))\n",
    "        frame_idx += 1\n",
    "\n",
    "        slider_step = {\n",
    "            \"args\": [\n",
    "                [i],\n",
    "                {\"frame\": {\"duration\": 1, \"redraw\": True},\n",
    "                \"mode\": \"immediate\",\n",
    "                \"transition\": {\"duration\": 1}}\n",
    "            ],\n",
    "            \"label\": i+1,\n",
    "            \"method\": \"animate\"\n",
    "        }\n",
    "        sliders_dict[\"steps\"].append(slider_step)\n",
    "    fig.layout.sliders = [sliders_dict]\n",
    "\n",
    "    fig.update(frames=frames)\n",
    "    fig.update_layout(**plotly_layout, width=500, height=500)\n",
    "    \n",
    "    return fig"
   ]
  },
  {
   "cell_type": "code",
   "execution_count": null,
   "id": "298131cb-5cc9-4cd8-b4ce-aa2afd9b0276",
   "metadata": {},
   "outputs": [],
   "source": [
    "draw_images(data[15])"
   ]
  },
  {
   "cell_type": "code",
   "execution_count": null,
   "id": "04bcdf1a-0bb2-4cc6-abee-aaf699152b00",
   "metadata": {},
   "outputs": [],
   "source": [
    "SAVE_PATH = '/home/jblim/GGAE-public/dataset/RotatingMNIST/'\n",
    "os.makedirs(SAVE_PATH, exist_ok=True)\n",
    "for i in trange(10):\n",
    "    torch.save({\n",
    "        'data': data[targets == i],\n",
    "        'targets': targets[targets == i]\n",
    "    }, os.path.join(SAVE_PATH, f'RotatingMNIST-digit={i}.pkl'))"
   ]
  }
 ],
 "metadata": {
  "kernelspec": {
   "display_name": "Python 3.7.13 ('DLIsoLR')",
   "language": "python",
   "name": "python3"
  },
  "language_info": {
   "codemirror_mode": {
    "name": "ipython",
    "version": 3
   },
   "file_extension": ".py",
   "mimetype": "text/x-python",
   "name": "python",
   "nbconvert_exporter": "python",
   "pygments_lexer": "ipython3",
   "version": "3.8.19"
  },
  "vscode": {
   "interpreter": {
    "hash": "195f488e64f8a6bf3cb586da90b59a0fa46342450183d7ce5944e5e7f2dcd978"
   }
  }
 },
 "nbformat": 4,
 "nbformat_minor": 5
}
