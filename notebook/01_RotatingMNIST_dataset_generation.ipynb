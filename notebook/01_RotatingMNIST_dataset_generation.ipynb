{
 "cells": [
  {
   "cell_type": "markdown",
   "id": "14576305",
   "metadata": {},
   "source": [
    "Run this file to Generate RotatingMNIST dataset under ./dataset/RotatingMNIST/ directory."
   ]
  },
  {
   "cell_type": "code",
   "execution_count": null,
   "id": "d3e490f4-c98b-4c60-88f3-339a2f38136a",
   "metadata": {},
   "outputs": [],
   "source": [
    "import os, sys\n",
    "import torch\n",
    "from tqdm.auto import trange\n",
    "\n",
    "sys.path.append('..')\n",
    "from loader import get_dataloader\n",
    "from torchvision import transforms"
   ]
  },
  {
   "cell_type": "code",
   "execution_count": null,
   "id": "ac6f93d1-cfec-40eb-bb36-9521f0aa8e79",
   "metadata": {},
   "outputs": [],
   "source": [
    "data_cfg = {\n",
    "    'dataset': 'MNIST',\n",
    "    'root': '../dataset',\n",
    "    'batch_size': 100,\n",
    "    'n_workers': 4,\n",
    "    'split': 'training',\n",
    "    'shuffle': True,\n",
    "    'digits': [3],\n",
    "}\n",
    "\n",
    "dl = get_dataloader(data_cfg)"
   ]
  },
  {
   "cell_type": "code",
   "execution_count": null,
   "id": "f34a6b03-236f-4fe3-96e7-868b394ce3bb",
   "metadata": {},
   "outputs": [],
   "source": [
    "data = dl.dataset.data\n",
    "targets = dl.dataset.targets"
   ]
  },
  {
   "cell_type": "code",
   "execution_count": null,
   "id": "9d1810f7-787f-4fe4-a0bb-b64d99fab02c",
   "metadata": {},
   "outputs": [],
   "source": [
    "EPISODES_PER_IMAGE = 1\n",
    "TIME_HORIZON = 36\n",
    "ANGLE_STEP = 10\n",
    "\n",
    "data = data.repeat_interleave(EPISODES_PER_IMAGE, 0).unsqueeze(-1).repeat_interleave(TIME_HORIZON, -1)\n",
    "targets = targets.repeat_interleave(EPISODES_PER_IMAGE, 0)"
   ]
  },
  {
   "cell_type": "code",
   "execution_count": null,
   "id": "456d4ccb-6559-4304-9ff3-85bc18acbd14",
   "metadata": {},
   "outputs": [],
   "source": [
    "for i_idx in trange(data.shape[0]):\n",
    "    theta_init = torch.rand(()) * 360\n",
    "    for j_idx in range(data.shape[-1]):\n",
    "        theta = theta_init.item() + ANGLE_STEP * j_idx\n",
    "        data[i_idx, :, :, :, j_idx] = transforms.functional.affine(img=data[i_idx, :, :, :, j_idx], angle=theta, translate=[0, 0], scale=1., shear=0)"
   ]
  },
  {
   "cell_type": "code",
   "execution_count": null,
   "id": "04bcdf1a-0bb2-4cc6-abee-aaf699152b00",
   "metadata": {},
   "outputs": [],
   "source": [
    "SAVE_PATH = '../dataset/RotatingMNIST/'\n",
    "os.makedirs(SAVE_PATH, exist_ok=True)\n",
    "for i in data_cfg[\"digits\"]:\n",
    "    torch.save({\n",
    "        'data': data[targets == i],\n",
    "        'targets': targets[targets == i]\n",
    "    }, os.path.join(SAVE_PATH, f'RotatingMNIST-digit={i}.pkl'))"
   ]
  }
 ],
 "metadata": {
  "kernelspec": {
   "display_name": "Python 3.7.13 ('DLIsoLR')",
   "language": "python",
   "name": "python3"
  },
  "language_info": {
   "codemirror_mode": {
    "name": "ipython",
    "version": 3
   },
   "file_extension": ".py",
   "mimetype": "text/x-python",
   "name": "python",
   "nbconvert_exporter": "python",
   "pygments_lexer": "ipython3",
   "version": "3.7.12"
  },
  "vscode": {
   "interpreter": {
    "hash": "195f488e64f8a6bf3cb586da90b59a0fa46342450183d7ce5944e5e7f2dcd978"
   }
  }
 },
 "nbformat": 4,
 "nbformat_minor": 5
}
